{
 "cells": [
  {
   "cell_type": "code",
   "execution_count": null,
   "metadata": {},
   "outputs": [],
   "source": [
    "from compiler_hackathon.classes.Compiler import *"
   ]
  },
  {
   "cell_type": "code",
   "execution_count": null,
   "metadata": {},
   "outputs": [],
   "source": [
    "# Tokenize DSL file\n",
    "dsl_file = open('resources_hackathon/eval/ux-design-1.gui')\n",
    "tokens = []\n",
    "\n",
    "for token in dsl_file:\n",
    "    token = token.replace(\" \", \"\").replace(\"\\n\", \"\")\n",
    "    ts = token.split(\",\")\n",
    "    for t in ts:\n",
    "        tokens.append(t)"
   ]
  },
  {
   "cell_type": "code",
   "execution_count": null,
   "metadata": {},
   "outputs": [],
   "source": [
    "dsl_mapping = \"compiler_hackathon/assets/web-dsl-mapping.json\"\n",
    "compiler = Compiler(dsl_mapping)\n",
    "compiled_website = compiler.compile(tokens)"
   ]
  },
  {
   "cell_type": "code",
   "execution_count": null,
   "metadata": {},
   "outputs": [],
   "source": []
  }
 ],
 "metadata": {
  "kernelspec": {
   "display_name": "Python 3",
   "language": "python",
   "name": "python3"
  },
  "language_info": {
   "codemirror_mode": {
    "name": "ipython",
    "version": 3
   },
   "file_extension": ".py",
   "mimetype": "text/x-python",
   "name": "python",
   "nbconvert_exporter": "python",
   "pygments_lexer": "ipython3",
   "version": "3.5.4"
  }
 },
 "nbformat": 4,
 "nbformat_minor": 2
}
